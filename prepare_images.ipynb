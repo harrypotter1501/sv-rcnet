{
 "cells": [
  {
   "cell_type": "markdown",
   "metadata": {},
   "source": []
  },
  {
   "cell_type": "code",
   "execution_count": 1,
   "metadata": {},
   "outputs": [
    {
     "name": "stdout",
     "output_type": "stream",
     "text": [
      "11.3\n"
     ]
    }
   ],
   "source": [
    "# imports\n",
    "import torch\n",
    "from torch.utils.data import Dataset, DataLoader, random_split, SequentialSampler, RandomSampler, BatchSampler\n",
    "from torchvision import models, transforms\n",
    "from torch import nn, optim\n",
    "\n",
    "from PIL import Image\n",
    "import numpy as np\n",
    "import pandas as pd\n",
    "from matplotlib import pyplot as plt\n",
    "\n",
    "from utils.clean_labels import clean_labels\n",
    "from utils.prepare_images import prepare_images\n",
    "from utils.mydataset import SVRCDataset\n",
    "\n",
    "import os\n",
    "from datetime import datetime\n",
    "import random\n",
    "import time\n",
    "\n",
    "%load_ext autoreload\n",
    "%autoreload 2\n",
    "print(torch.version.cuda)"
   ]
  },
  {
   "cell_type": "code",
   "execution_count": 2,
   "metadata": {},
   "outputs": [],
   "source": [
    "# put videos here!\n",
    "# video_base = 'data/videos'\n",
    "video_base = 'D:/e6691/6691_assignment2/videos'\n",
    "videos = [vid for vid in os.listdir(video_base) if vid.endswith('mp4')]\n",
    "# images will be output to here\n",
    "# image_base = 'data/images'\n",
    "image_base = 'D:/e6691/6691_assignment2/images'\n",
    "if not os.path.exists(image_base):\n",
    "    os.mkdir(image_base)"
   ]
  },
  {
   "cell_type": "code",
   "execution_count": null,
   "metadata": {},
   "outputs": [],
   "source": [
    "#!rm -r {image_base + '/*'}"
   ]
  },
  {
   "cell_type": "code",
   "execution_count": 3,
   "metadata": {},
   "outputs": [
    {
     "data": {
      "text/plain": [
       "['RALIHR_surgeon01_fps01_0001.mp4',\n",
       " 'RALIHR_surgeon01_fps01_0002.mp4',\n",
       " 'RALIHR_surgeon01_fps01_0003.mp4',\n",
       " 'RALIHR_surgeon01_fps01_0004.mp4',\n",
       " 'RALIHR_surgeon01_fps01_0005.mp4',\n",
       " 'RALIHR_surgeon01_fps01_0006.mp4',\n",
       " 'RALIHR_surgeon01_fps01_0007.mp4',\n",
       " 'RALIHR_surgeon01_fps01_0008.mp4',\n",
       " 'RALIHR_surgeon01_fps01_0009.mp4',\n",
       " 'RALIHR_surgeon01_fps01_0010.mp4',\n",
       " 'RALIHR_surgeon01_fps01_0011.mp4',\n",
       " 'RALIHR_surgeon01_fps01_0012.mp4',\n",
       " 'RALIHR_surgeon01_fps01_0013.mp4',\n",
       " 'RALIHR_surgeon01_fps01_0014.mp4',\n",
       " 'RALIHR_surgeon01_fps01_0015.mp4',\n",
       " 'RALIHR_surgeon01_fps01_0016.mp4',\n",
       " 'RALIHR_surgeon01_fps01_0017.mp4',\n",
       " 'RALIHR_surgeon01_fps01_0018.mp4',\n",
       " 'RALIHR_surgeon01_fps01_0019.mp4',\n",
       " 'RALIHR_surgeon01_fps01_0020.mp4',\n",
       " 'RALIHR_surgeon01_fps01_0021.mp4',\n",
       " 'RALIHR_surgeon01_fps01_0022.mp4',\n",
       " 'RALIHR_surgeon01_fps01_0023.mp4',\n",
       " 'RALIHR_surgeon01_fps01_0024.mp4',\n",
       " 'RALIHR_surgeon01_fps01_0025.mp4',\n",
       " 'RALIHR_surgeon01_fps01_0026.mp4',\n",
       " 'RALIHR_surgeon01_fps01_0027.mp4',\n",
       " 'RALIHR_surgeon01_fps01_0028.mp4',\n",
       " 'RALIHR_surgeon01_fps01_0029.mp4',\n",
       " 'RALIHR_surgeon01_fps01_0030.mp4',\n",
       " 'RALIHR_surgeon01_fps01_0031.mp4',\n",
       " 'RALIHR_surgeon01_fps01_0032.mp4',\n",
       " 'RALIHR_surgeon01_fps01_0033.mp4',\n",
       " 'RALIHR_surgeon01_fps01_0034.mp4',\n",
       " 'RALIHR_surgeon01_fps01_0035.mp4',\n",
       " 'RALIHR_surgeon01_fps01_0036.mp4',\n",
       " 'RALIHR_surgeon01_fps01_0037.mp4',\n",
       " 'RALIHR_surgeon01_fps01_0038.mp4',\n",
       " 'RALIHR_surgeon01_fps01_0039.mp4',\n",
       " 'RALIHR_surgeon01_fps01_0040.mp4',\n",
       " 'RALIHR_surgeon01_fps01_0041.mp4',\n",
       " 'RALIHR_surgeon01_fps01_0042.mp4',\n",
       " 'RALIHR_surgeon01_fps01_0043.mp4',\n",
       " 'RALIHR_surgeon01_fps01_0044.mp4',\n",
       " 'RALIHR_surgeon01_fps01_0045.mp4',\n",
       " 'RALIHR_surgeon01_fps01_0046.mp4',\n",
       " 'RALIHR_surgeon01_fps01_0047.mp4',\n",
       " 'RALIHR_surgeon01_fps01_0048.mp4',\n",
       " 'RALIHR_surgeon01_fps01_0049.mp4',\n",
       " 'RALIHR_surgeon01_fps01_0050.mp4',\n",
       " 'RALIHR_surgeon01_fps01_0051.mp4',\n",
       " 'RALIHR_surgeon01_fps01_0052.mp4',\n",
       " 'RALIHR_surgeon01_fps01_0053.mp4',\n",
       " 'RALIHR_surgeon01_fps01_0054.mp4',\n",
       " 'RALIHR_surgeon01_fps01_0055.mp4',\n",
       " 'RALIHR_surgeon01_fps01_0056.mp4',\n",
       " 'RALIHR_surgeon01_fps01_0057.mp4',\n",
       " 'RALIHR_surgeon01_fps01_0058.mp4',\n",
       " 'RALIHR_surgeon01_fps01_0059.mp4',\n",
       " 'RALIHR_surgeon01_fps01_0060.mp4',\n",
       " 'RALIHR_surgeon01_fps01_0061.mp4',\n",
       " 'RALIHR_surgeon01_fps01_0062.mp4',\n",
       " 'RALIHR_surgeon01_fps01_0063.mp4',\n",
       " 'RALIHR_surgeon01_fps01_0064.mp4',\n",
       " 'RALIHR_surgeon01_fps01_0065.mp4',\n",
       " 'RALIHR_surgeon01_fps01_0066.mp4',\n",
       " 'RALIHR_surgeon01_fps01_0067.mp4',\n",
       " 'RALIHR_surgeon01_fps01_0068.mp4',\n",
       " 'RALIHR_surgeon01_fps01_0069.mp4',\n",
       " 'RALIHR_surgeon01_fps01_0070.mp4']"
      ]
     },
     "execution_count": 3,
     "metadata": {},
     "output_type": "execute_result"
    }
   ],
   "source": [
    "videos"
   ]
  },
  {
   "cell_type": "code",
   "execution_count": 10,
   "metadata": {},
   "outputs": [],
   "source": [
    "# command line: \n",
    "# ffmpeg -i {input_video} -r {frame_rate} [-f {force_format} (not needed)] {output_images}\n",
    "# doc: https://ffmpeg.org/ffmpeg.html\n",
    "for video in videos:\n",
    "    # input_path = os.path.join(video_base, video)\n",
    "    input_path = video_base + '/' + video\n",
    "    # make dirs\n",
    "    output_base = image_base + '/{}'.format(video.split('.')[0])\n",
    "    if not os.path.exists(output_base):\n",
    "        os.mkdir(output_base)\n",
    "    #output_path = os.path.join(output_base, '%d.png')\n",
    "    output_path = output_base + '/' + '%d.png'\n",
    "    # # command\n",
    "    # print('Frames extracted from {} to {}'.format(input_path, output_path))\n",
    "    # !ffmpeg -i {input_path} -r 1 {output_path}"
   ]
  },
  {
   "cell_type": "code",
   "execution_count": 11,
   "metadata": {},
   "outputs": [],
   "source": [
    "labels_path = 'data/labels/video.phase.trainingData.clean.StudentVersion.csv'\n",
    "names_path = 'data/labels/all_labels_hernia.csv'\n",
    "labels_df = pd.read_csv(labels_path)\n",
    "names_df = pd.read_csv(names_path, index_col='id')"
   ]
  },
  {
   "cell_type": "code",
   "execution_count": 12,
   "metadata": {},
   "outputs": [
    {
     "data": {
      "text/html": [
       "<div>\n",
       "<style scoped>\n",
       "    .dataframe tbody tr th:only-of-type {\n",
       "        vertical-align: middle;\n",
       "    }\n",
       "\n",
       "    .dataframe tbody tr th {\n",
       "        vertical-align: top;\n",
       "    }\n",
       "\n",
       "    .dataframe thead th {\n",
       "        text-align: right;\n",
       "    }\n",
       "</style>\n",
       "<table border=\"1\" class=\"dataframe\">\n",
       "  <thead>\n",
       "    <tr style=\"text-align: right;\">\n",
       "      <th></th>\n",
       "      <th>labels</th>\n",
       "    </tr>\n",
       "    <tr>\n",
       "      <th>id</th>\n",
       "      <th></th>\n",
       "    </tr>\n",
       "  </thead>\n",
       "  <tbody>\n",
       "    <tr>\n",
       "      <th>0</th>\n",
       "      <td>adhesiolysis</td>\n",
       "    </tr>\n",
       "    <tr>\n",
       "      <th>1</th>\n",
       "      <td>blurry</td>\n",
       "    </tr>\n",
       "    <tr>\n",
       "      <th>2</th>\n",
       "      <td>catheter insertion</td>\n",
       "    </tr>\n",
       "    <tr>\n",
       "      <th>3</th>\n",
       "      <td>mesh placement</td>\n",
       "    </tr>\n",
       "    <tr>\n",
       "      <th>4</th>\n",
       "      <td>mesh positioning</td>\n",
       "    </tr>\n",
       "    <tr>\n",
       "      <th>5</th>\n",
       "      <td>out of body</td>\n",
       "    </tr>\n",
       "    <tr>\n",
       "      <th>6</th>\n",
       "      <td>peritoneal closure</td>\n",
       "    </tr>\n",
       "    <tr>\n",
       "      <th>7</th>\n",
       "      <td>peritoneal scoring</td>\n",
       "    </tr>\n",
       "    <tr>\n",
       "      <th>8</th>\n",
       "      <td>positioning suture</td>\n",
       "    </tr>\n",
       "    <tr>\n",
       "      <th>9</th>\n",
       "      <td>preperioneal dissection</td>\n",
       "    </tr>\n",
       "    <tr>\n",
       "      <th>10</th>\n",
       "      <td>primary hernia repair</td>\n",
       "    </tr>\n",
       "    <tr>\n",
       "      <th>11</th>\n",
       "      <td>reduction of hernia</td>\n",
       "    </tr>\n",
       "    <tr>\n",
       "      <th>12</th>\n",
       "      <td>stationary idle</td>\n",
       "    </tr>\n",
       "    <tr>\n",
       "      <th>13</th>\n",
       "      <td>transitionary idle</td>\n",
       "    </tr>\n",
       "  </tbody>\n",
       "</table>\n",
       "</div>"
      ],
      "text/plain": [
       "                     labels\n",
       "id                         \n",
       "0              adhesiolysis\n",
       "1                    blurry\n",
       "2        catheter insertion\n",
       "3            mesh placement\n",
       "4          mesh positioning\n",
       "5               out of body\n",
       "6        peritoneal closure\n",
       "7        peritoneal scoring\n",
       "8        positioning suture\n",
       "9   preperioneal dissection\n",
       "10    primary hernia repair\n",
       "11      reduction of hernia\n",
       "12          stationary idle\n",
       "13       transitionary idle"
      ]
     },
     "execution_count": 12,
     "metadata": {},
     "output_type": "execute_result"
    }
   ],
   "source": [
    "names_df"
   ]
  },
  {
   "cell_type": "code",
   "execution_count": 13,
   "metadata": {},
   "outputs": [
    {
     "name": "stderr",
     "output_type": "stream",
     "text": [
      "d:\\python\\lib\\site-packages\\pandas\\core\\frame.py:3641: SettingWithCopyWarning: \n",
      "A value is trying to be set on a copy of a slice from a DataFrame.\n",
      "Try using .loc[row_indexer,col_indexer] = value instead\n",
      "\n",
      "See the caveats in the documentation: https://pandas.pydata.org/pandas-docs/stable/user_guide/indexing.html#returning-a-view-versus-a-copy\n",
      "  self[k1] = value[k2]\n"
     ]
    }
   ],
   "source": [
    "prepare_images(video_base, image_base, labels_df, names_df, 'png')"
   ]
  }
 ],
 "metadata": {
  "interpreter": {
   "hash": "7bb744823c5315bc838d6f85bb474c2716845bb0b4d758ac389cca5a4bd648da"
  },
  "kernelspec": {
   "display_name": "Python 3",
   "language": "python",
   "name": "python3"
  },
  "language_info": {
   "codemirror_mode": {
    "name": "ipython",
    "version": 3
   },
   "file_extension": ".py",
   "mimetype": "text/x-python",
   "name": "python",
   "nbconvert_exporter": "python",
   "pygments_lexer": "ipython3",
   "version": "3.9.7"
  }
 },
 "nbformat": 4,
 "nbformat_minor": 2
}
